{
  "nbformat": 4,
  "nbformat_minor": 0,
  "metadata": {
    "colab": {
      "name": "Untitled0.ipynb",
      "provenance": [],
      "authorship_tag": "ABX9TyPsOh83Vs8sVyR52474h56l",
      "include_colab_link": true
    },
    "kernelspec": {
      "name": "python3",
      "display_name": "Python 3"
    },
    "language_info": {
      "name": "python"
    },
    "widgets": {
      "application/vnd.jupyter.widget-state+json": {
        "06eda11a0d01459983ea183bad599769": {
          "model_module": "@jupyter-widgets/controls",
          "model_name": "HBoxModel",
          "model_module_version": "1.5.0",
          "state": {
            "_dom_classes": [],
            "_model_module": "@jupyter-widgets/controls",
            "_model_module_version": "1.5.0",
            "_model_name": "HBoxModel",
            "_view_count": null,
            "_view_module": "@jupyter-widgets/controls",
            "_view_module_version": "1.5.0",
            "_view_name": "HBoxView",
            "box_style": "",
            "children": [
              "IPY_MODEL_07e44f5cdd0842c49bcf61280cba924a",
              "IPY_MODEL_b3b104d93043475f9a8dec2b88189a20"
            ],
            "layout": "IPY_MODEL_04efafbf7de34b45afe23889d08f3a09"
          }
        },
        "07e44f5cdd0842c49bcf61280cba924a": {
          "model_module": "@jupyter-widgets/controls",
          "model_name": "ButtonModel",
          "model_module_version": "1.5.0",
          "state": {
            "_dom_classes": [],
            "_model_module": "@jupyter-widgets/controls",
            "_model_module_version": "1.5.0",
            "_model_name": "ButtonModel",
            "_view_count": null,
            "_view_module": "@jupyter-widgets/controls",
            "_view_module_version": "1.5.0",
            "_view_name": "ButtonView",
            "button_style": "",
            "description": "0",
            "disabled": false,
            "icon": "",
            "layout": "IPY_MODEL_90b50eb2ae254e859105c4fe6d2e438c",
            "style": "IPY_MODEL_c13015f4224241a791990ec91abc7924",
            "tooltip": ""
          }
        },
        "b3b104d93043475f9a8dec2b88189a20": {
          "model_module": "@jupyter-widgets/controls",
          "model_name": "ButtonModel",
          "model_module_version": "1.5.0",
          "state": {
            "_dom_classes": [],
            "_model_module": "@jupyter-widgets/controls",
            "_model_module_version": "1.5.0",
            "_model_name": "ButtonModel",
            "_view_count": null,
            "_view_module": "@jupyter-widgets/controls",
            "_view_module_version": "1.5.0",
            "_view_name": "ButtonView",
            "button_style": "",
            "description": "1",
            "disabled": false,
            "icon": "",
            "layout": "IPY_MODEL_ae8cf005b7f349938aeeb5988c755834",
            "style": "IPY_MODEL_110d4a8d1a1f477ab5bbefb305c8a7d4",
            "tooltip": ""
          }
        },
        "04efafbf7de34b45afe23889d08f3a09": {
          "model_module": "@jupyter-widgets/base",
          "model_name": "LayoutModel",
          "model_module_version": "1.2.0",
          "state": {
            "_model_module": "@jupyter-widgets/base",
            "_model_module_version": "1.2.0",
            "_model_name": "LayoutModel",
            "_view_count": null,
            "_view_module": "@jupyter-widgets/base",
            "_view_module_version": "1.2.0",
            "_view_name": "LayoutView",
            "align_content": null,
            "align_items": null,
            "align_self": null,
            "border": null,
            "bottom": null,
            "display": null,
            "flex": null,
            "flex_flow": null,
            "grid_area": null,
            "grid_auto_columns": null,
            "grid_auto_flow": null,
            "grid_auto_rows": null,
            "grid_column": null,
            "grid_gap": null,
            "grid_row": null,
            "grid_template_areas": null,
            "grid_template_columns": null,
            "grid_template_rows": null,
            "height": null,
            "justify_content": null,
            "justify_items": null,
            "left": null,
            "margin": null,
            "max_height": null,
            "max_width": null,
            "min_height": null,
            "min_width": null,
            "object_fit": null,
            "object_position": null,
            "order": null,
            "overflow": null,
            "overflow_x": null,
            "overflow_y": null,
            "padding": null,
            "right": null,
            "top": null,
            "visibility": null,
            "width": null
          }
        },
        "90b50eb2ae254e859105c4fe6d2e438c": {
          "model_module": "@jupyter-widgets/base",
          "model_name": "LayoutModel",
          "model_module_version": "1.2.0",
          "state": {
            "_model_module": "@jupyter-widgets/base",
            "_model_module_version": "1.2.0",
            "_model_name": "LayoutModel",
            "_view_count": null,
            "_view_module": "@jupyter-widgets/base",
            "_view_module_version": "1.2.0",
            "_view_name": "LayoutView",
            "align_content": null,
            "align_items": null,
            "align_self": null,
            "border": null,
            "bottom": null,
            "display": null,
            "flex": null,
            "flex_flow": null,
            "grid_area": null,
            "grid_auto_columns": null,
            "grid_auto_flow": null,
            "grid_auto_rows": null,
            "grid_column": null,
            "grid_gap": null,
            "grid_row": null,
            "grid_template_areas": null,
            "grid_template_columns": null,
            "grid_template_rows": null,
            "height": null,
            "justify_content": null,
            "justify_items": null,
            "left": null,
            "margin": null,
            "max_height": null,
            "max_width": null,
            "min_height": null,
            "min_width": null,
            "object_fit": null,
            "object_position": null,
            "order": null,
            "overflow": null,
            "overflow_x": null,
            "overflow_y": null,
            "padding": null,
            "right": null,
            "top": null,
            "visibility": null,
            "width": null
          }
        },
        "c13015f4224241a791990ec91abc7924": {
          "model_module": "@jupyter-widgets/controls",
          "model_name": "ButtonStyleModel",
          "model_module_version": "1.5.0",
          "state": {
            "_model_module": "@jupyter-widgets/controls",
            "_model_module_version": "1.5.0",
            "_model_name": "ButtonStyleModel",
            "_view_count": null,
            "_view_module": "@jupyter-widgets/base",
            "_view_module_version": "1.2.0",
            "_view_name": "StyleView",
            "button_color": null,
            "font_weight": ""
          }
        },
        "ae8cf005b7f349938aeeb5988c755834": {
          "model_module": "@jupyter-widgets/base",
          "model_name": "LayoutModel",
          "model_module_version": "1.2.0",
          "state": {
            "_model_module": "@jupyter-widgets/base",
            "_model_module_version": "1.2.0",
            "_model_name": "LayoutModel",
            "_view_count": null,
            "_view_module": "@jupyter-widgets/base",
            "_view_module_version": "1.2.0",
            "_view_name": "LayoutView",
            "align_content": null,
            "align_items": null,
            "align_self": null,
            "border": null,
            "bottom": null,
            "display": null,
            "flex": null,
            "flex_flow": null,
            "grid_area": null,
            "grid_auto_columns": null,
            "grid_auto_flow": null,
            "grid_auto_rows": null,
            "grid_column": null,
            "grid_gap": null,
            "grid_row": null,
            "grid_template_areas": null,
            "grid_template_columns": null,
            "grid_template_rows": null,
            "height": null,
            "justify_content": null,
            "justify_items": null,
            "left": null,
            "margin": null,
            "max_height": null,
            "max_width": null,
            "min_height": null,
            "min_width": null,
            "object_fit": null,
            "object_position": null,
            "order": null,
            "overflow": null,
            "overflow_x": null,
            "overflow_y": null,
            "padding": null,
            "right": null,
            "top": null,
            "visibility": null,
            "width": null
          }
        },
        "110d4a8d1a1f477ab5bbefb305c8a7d4": {
          "model_module": "@jupyter-widgets/controls",
          "model_name": "ButtonStyleModel",
          "model_module_version": "1.5.0",
          "state": {
            "_model_module": "@jupyter-widgets/controls",
            "_model_module_version": "1.5.0",
            "_model_name": "ButtonStyleModel",
            "_view_count": null,
            "_view_module": "@jupyter-widgets/base",
            "_view_module_version": "1.2.0",
            "_view_name": "StyleView",
            "button_color": null,
            "font_weight": ""
          }
        },
        "f4adf4f141e94f249ccab27b00dd654d": {
          "model_module": "@jupyter-widgets/controls",
          "model_name": "VBoxModel",
          "model_module_version": "1.5.0",
          "state": {
            "_dom_classes": [],
            "_model_module": "@jupyter-widgets/controls",
            "_model_module_version": "1.5.0",
            "_model_name": "VBoxModel",
            "_view_count": null,
            "_view_module": "@jupyter-widgets/controls",
            "_view_module_version": "1.5.0",
            "_view_name": "VBoxView",
            "box_style": "",
            "children": [
              "IPY_MODEL_25c11fb8f3e243a38aeaf4969abd6fc5",
              "IPY_MODEL_79bdda9730184575a340037eed2e4bcf"
            ],
            "layout": "IPY_MODEL_e117ae6d187840af89b243d7370aab92"
          }
        },
        "25c11fb8f3e243a38aeaf4969abd6fc5": {
          "model_module": "@jupyter-widgets/controls",
          "model_name": "IntProgressModel",
          "model_module_version": "1.5.0",
          "state": {
            "_dom_classes": [],
            "_model_module": "@jupyter-widgets/controls",
            "_model_module_version": "1.5.0",
            "_model_name": "IntProgressModel",
            "_view_count": null,
            "_view_module": "@jupyter-widgets/controls",
            "_view_module_version": "1.5.0",
            "_view_name": "ProgressView",
            "bar_style": "success",
            "description": "You:",
            "description_tooltip": null,
            "layout": "IPY_MODEL_6fca4f86f4774dd2b583905911ff2b14",
            "max": 10,
            "min": 0,
            "orientation": "horizontal",
            "style": "IPY_MODEL_4d33729af44f4422b11762fd45fbaa91",
            "value": 0
          }
        },
        "79bdda9730184575a340037eed2e4bcf": {
          "model_module": "@jupyter-widgets/controls",
          "model_name": "IntProgressModel",
          "model_module_version": "1.5.0",
          "state": {
            "_dom_classes": [],
            "_model_module": "@jupyter-widgets/controls",
            "_model_module_version": "1.5.0",
            "_model_name": "IntProgressModel",
            "_view_count": null,
            "_view_module": "@jupyter-widgets/controls",
            "_view_module_version": "1.5.0",
            "_view_name": "ProgressView",
            "bar_style": "danger",
            "description": "Bot:",
            "description_tooltip": null,
            "layout": "IPY_MODEL_040c79cc0aaa491e9540c9587277b801",
            "max": 10,
            "min": 0,
            "orientation": "horizontal",
            "style": "IPY_MODEL_56ef4c947eae482c93a6c56f575a45f6",
            "value": 0
          }
        },
        "e117ae6d187840af89b243d7370aab92": {
          "model_module": "@jupyter-widgets/base",
          "model_name": "LayoutModel",
          "model_module_version": "1.2.0",
          "state": {
            "_model_module": "@jupyter-widgets/base",
            "_model_module_version": "1.2.0",
            "_model_name": "LayoutModel",
            "_view_count": null,
            "_view_module": "@jupyter-widgets/base",
            "_view_module_version": "1.2.0",
            "_view_name": "LayoutView",
            "align_content": null,
            "align_items": null,
            "align_self": null,
            "border": null,
            "bottom": null,
            "display": null,
            "flex": null,
            "flex_flow": null,
            "grid_area": null,
            "grid_auto_columns": null,
            "grid_auto_flow": null,
            "grid_auto_rows": null,
            "grid_column": null,
            "grid_gap": null,
            "grid_row": null,
            "grid_template_areas": null,
            "grid_template_columns": null,
            "grid_template_rows": null,
            "height": null,
            "justify_content": null,
            "justify_items": null,
            "left": null,
            "margin": null,
            "max_height": null,
            "max_width": null,
            "min_height": null,
            "min_width": null,
            "object_fit": null,
            "object_position": null,
            "order": null,
            "overflow": null,
            "overflow_x": null,
            "overflow_y": null,
            "padding": null,
            "right": null,
            "top": null,
            "visibility": null,
            "width": null
          }
        },
        "6fca4f86f4774dd2b583905911ff2b14": {
          "model_module": "@jupyter-widgets/base",
          "model_name": "LayoutModel",
          "model_module_version": "1.2.0",
          "state": {
            "_model_module": "@jupyter-widgets/base",
            "_model_module_version": "1.2.0",
            "_model_name": "LayoutModel",
            "_view_count": null,
            "_view_module": "@jupyter-widgets/base",
            "_view_module_version": "1.2.0",
            "_view_name": "LayoutView",
            "align_content": null,
            "align_items": null,
            "align_self": null,
            "border": null,
            "bottom": null,
            "display": null,
            "flex": null,
            "flex_flow": null,
            "grid_area": null,
            "grid_auto_columns": null,
            "grid_auto_flow": null,
            "grid_auto_rows": null,
            "grid_column": null,
            "grid_gap": null,
            "grid_row": null,
            "grid_template_areas": null,
            "grid_template_columns": null,
            "grid_template_rows": null,
            "height": null,
            "justify_content": null,
            "justify_items": null,
            "left": null,
            "margin": null,
            "max_height": null,
            "max_width": null,
            "min_height": null,
            "min_width": null,
            "object_fit": null,
            "object_position": null,
            "order": null,
            "overflow": null,
            "overflow_x": null,
            "overflow_y": null,
            "padding": null,
            "right": null,
            "top": null,
            "visibility": null,
            "width": null
          }
        },
        "4d33729af44f4422b11762fd45fbaa91": {
          "model_module": "@jupyter-widgets/controls",
          "model_name": "ProgressStyleModel",
          "model_module_version": "1.5.0",
          "state": {
            "_model_module": "@jupyter-widgets/controls",
            "_model_module_version": "1.5.0",
            "_model_name": "ProgressStyleModel",
            "_view_count": null,
            "_view_module": "@jupyter-widgets/base",
            "_view_module_version": "1.2.0",
            "_view_name": "StyleView",
            "bar_color": null,
            "description_width": ""
          }
        },
        "040c79cc0aaa491e9540c9587277b801": {
          "model_module": "@jupyter-widgets/base",
          "model_name": "LayoutModel",
          "model_module_version": "1.2.0",
          "state": {
            "_model_module": "@jupyter-widgets/base",
            "_model_module_version": "1.2.0",
            "_model_name": "LayoutModel",
            "_view_count": null,
            "_view_module": "@jupyter-widgets/base",
            "_view_module_version": "1.2.0",
            "_view_name": "LayoutView",
            "align_content": null,
            "align_items": null,
            "align_self": null,
            "border": null,
            "bottom": null,
            "display": null,
            "flex": null,
            "flex_flow": null,
            "grid_area": null,
            "grid_auto_columns": null,
            "grid_auto_flow": null,
            "grid_auto_rows": null,
            "grid_column": null,
            "grid_gap": null,
            "grid_row": null,
            "grid_template_areas": null,
            "grid_template_columns": null,
            "grid_template_rows": null,
            "height": null,
            "justify_content": null,
            "justify_items": null,
            "left": null,
            "margin": null,
            "max_height": null,
            "max_width": null,
            "min_height": null,
            "min_width": null,
            "object_fit": null,
            "object_position": null,
            "order": null,
            "overflow": null,
            "overflow_x": null,
            "overflow_y": null,
            "padding": null,
            "right": null,
            "top": null,
            "visibility": null,
            "width": null
          }
        },
        "56ef4c947eae482c93a6c56f575a45f6": {
          "model_module": "@jupyter-widgets/controls",
          "model_name": "ProgressStyleModel",
          "model_module_version": "1.5.0",
          "state": {
            "_model_module": "@jupyter-widgets/controls",
            "_model_module_version": "1.5.0",
            "_model_name": "ProgressStyleModel",
            "_view_count": null,
            "_view_module": "@jupyter-widgets/base",
            "_view_module_version": "1.2.0",
            "_view_name": "StyleView",
            "bar_color": null,
            "description_width": ""
          }
        },
        "e8e955cbe0d24df297b287250c93b325": {
          "model_module": "@jupyter-widgets/controls",
          "model_name": "HTMLModel",
          "model_module_version": "1.5.0",
          "state": {
            "_dom_classes": [],
            "_model_module": "@jupyter-widgets/controls",
            "_model_module_version": "1.5.0",
            "_model_name": "HTMLModel",
            "_view_count": null,
            "_view_module": "@jupyter-widgets/controls",
            "_view_module_version": "1.5.0",
            "_view_name": "HTMLView",
            "description": "",
            "description_tooltip": null,
            "layout": "IPY_MODEL_1fbc1791811d4621b65ea2ec8dd06534",
            "placeholder": "​",
            "style": "IPY_MODEL_1549d35c54e74d98aa00707c6e6b6b1a",
            "value": "<h1 style='color:green'>  You Win!</h1>"
          }
        },
        "1fbc1791811d4621b65ea2ec8dd06534": {
          "model_module": "@jupyter-widgets/base",
          "model_name": "LayoutModel",
          "model_module_version": "1.2.0",
          "state": {
            "_model_module": "@jupyter-widgets/base",
            "_model_module_version": "1.2.0",
            "_model_name": "LayoutModel",
            "_view_count": null,
            "_view_module": "@jupyter-widgets/base",
            "_view_module_version": "1.2.0",
            "_view_name": "LayoutView",
            "align_content": null,
            "align_items": null,
            "align_self": null,
            "border": null,
            "bottom": null,
            "display": null,
            "flex": null,
            "flex_flow": null,
            "grid_area": null,
            "grid_auto_columns": null,
            "grid_auto_flow": null,
            "grid_auto_rows": null,
            "grid_column": null,
            "grid_gap": null,
            "grid_row": null,
            "grid_template_areas": null,
            "grid_template_columns": null,
            "grid_template_rows": null,
            "height": null,
            "justify_content": null,
            "justify_items": null,
            "left": null,
            "margin": null,
            "max_height": null,
            "max_width": null,
            "min_height": null,
            "min_width": null,
            "object_fit": null,
            "object_position": null,
            "order": null,
            "overflow": null,
            "overflow_x": null,
            "overflow_y": null,
            "padding": null,
            "right": null,
            "top": null,
            "visibility": null,
            "width": null
          }
        },
        "1549d35c54e74d98aa00707c6e6b6b1a": {
          "model_module": "@jupyter-widgets/controls",
          "model_name": "DescriptionStyleModel",
          "model_module_version": "1.5.0",
          "state": {
            "_model_module": "@jupyter-widgets/controls",
            "_model_module_version": "1.5.0",
            "_model_name": "DescriptionStyleModel",
            "_view_count": null,
            "_view_module": "@jupyter-widgets/base",
            "_view_module_version": "1.2.0",
            "_view_name": "StyleView",
            "description_width": ""
          }
        },
        "713ece3591ae4b51bfc31b63c488ceb7": {
          "model_module": "@jupyter-widgets/controls",
          "model_name": "VBoxModel",
          "model_module_version": "1.5.0",
          "state": {
            "_dom_classes": [],
            "_model_module": "@jupyter-widgets/controls",
            "_model_module_version": "1.5.0",
            "_model_name": "VBoxModel",
            "_view_count": null,
            "_view_module": "@jupyter-widgets/controls",
            "_view_module_version": "1.5.0",
            "_view_name": "VBoxView",
            "box_style": "",
            "children": [
              "IPY_MODEL_5f0bd34c53c54fed9bdff41cba9dfca2",
              "IPY_MODEL_06eda11a0d01459983ea183bad599769"
            ],
            "layout": "IPY_MODEL_2f4b74a2a5b7430a880c19bac7fdbdbb"
          }
        },
        "5f0bd34c53c54fed9bdff41cba9dfca2": {
          "model_module": "@jupyter-widgets/controls",
          "model_name": "HBoxModel",
          "model_module_version": "1.5.0",
          "state": {
            "_dom_classes": [],
            "_model_module": "@jupyter-widgets/controls",
            "_model_module_version": "1.5.0",
            "_model_name": "HBoxModel",
            "_view_count": null,
            "_view_module": "@jupyter-widgets/controls",
            "_view_module_version": "1.5.0",
            "_view_name": "HBoxView",
            "box_style": "",
            "children": [
              "IPY_MODEL_f4adf4f141e94f249ccab27b00dd654d",
              "IPY_MODEL_e8e955cbe0d24df297b287250c93b325"
            ],
            "layout": "IPY_MODEL_37dfcb618fb34ef8a4ad1d51780d4193"
          }
        },
        "2f4b74a2a5b7430a880c19bac7fdbdbb": {
          "model_module": "@jupyter-widgets/base",
          "model_name": "LayoutModel",
          "model_module_version": "1.2.0",
          "state": {
            "_model_module": "@jupyter-widgets/base",
            "_model_module_version": "1.2.0",
            "_model_name": "LayoutModel",
            "_view_count": null,
            "_view_module": "@jupyter-widgets/base",
            "_view_module_version": "1.2.0",
            "_view_name": "LayoutView",
            "align_content": null,
            "align_items": null,
            "align_self": null,
            "border": null,
            "bottom": null,
            "display": null,
            "flex": null,
            "flex_flow": null,
            "grid_area": null,
            "grid_auto_columns": null,
            "grid_auto_flow": null,
            "grid_auto_rows": null,
            "grid_column": null,
            "grid_gap": null,
            "grid_row": null,
            "grid_template_areas": null,
            "grid_template_columns": null,
            "grid_template_rows": null,
            "height": null,
            "justify_content": null,
            "justify_items": null,
            "left": null,
            "margin": null,
            "max_height": null,
            "max_width": null,
            "min_height": null,
            "min_width": null,
            "object_fit": null,
            "object_position": null,
            "order": null,
            "overflow": null,
            "overflow_x": null,
            "overflow_y": null,
            "padding": null,
            "right": null,
            "top": null,
            "visibility": null,
            "width": null
          }
        },
        "37dfcb618fb34ef8a4ad1d51780d4193": {
          "model_module": "@jupyter-widgets/base",
          "model_name": "LayoutModel",
          "model_module_version": "1.2.0",
          "state": {
            "_model_module": "@jupyter-widgets/base",
            "_model_module_version": "1.2.0",
            "_model_name": "LayoutModel",
            "_view_count": null,
            "_view_module": "@jupyter-widgets/base",
            "_view_module_version": "1.2.0",
            "_view_name": "LayoutView",
            "align_content": null,
            "align_items": null,
            "align_self": null,
            "border": null,
            "bottom": null,
            "display": null,
            "flex": null,
            "flex_flow": null,
            "grid_area": null,
            "grid_auto_columns": null,
            "grid_auto_flow": null,
            "grid_auto_rows": null,
            "grid_column": null,
            "grid_gap": null,
            "grid_row": null,
            "grid_template_areas": null,
            "grid_template_columns": null,
            "grid_template_rows": null,
            "height": null,
            "justify_content": null,
            "justify_items": null,
            "left": null,
            "margin": null,
            "max_height": null,
            "max_width": null,
            "min_height": null,
            "min_width": null,
            "object_fit": null,
            "object_position": null,
            "order": null,
            "overflow": null,
            "overflow_x": null,
            "overflow_y": null,
            "padding": null,
            "right": null,
            "top": null,
            "visibility": null,
            "width": null
          }
        }
      }
    }
  },
  "cells": [
    {
      "cell_type": "markdown",
      "metadata": {
        "id": "view-in-github",
        "colab_type": "text"
      },
      "source": [
        "<a href=\"https://colab.research.google.com/github/Rzkyharpian/Rz17/blob/main/GADULUDEH.ipynb\" target=\"_parent\"><img src=\"https://colab.research.google.com/assets/colab-badge.svg\" alt=\"Open In Colab\"/></a>"
      ]
    },
    {
      "cell_type": "markdown",
      "source": [
        "#Source code Game Mind Reader"
      ],
      "metadata": {
        "id": "nkZ-eZVAd45m"
      }
    },
    {
      "cell_type": "markdown",
      "source": [
        "##1.Penjelasan dan Ide Game\n",
        "\"Mind Reader\"\" adalah game sejenis dengan <span style='color:blue'>batu-gunting-kertas</span> melawan <span\n",
        "style='color:red'>komputer</span>. <span style='color:green'>anda</span> dapat memilih angka **1 atau 0**. Kemudian <span\n",
        "style='color:red'>Komputer</span> akan menebak pilihan <span style='color:green'>Anda</span> menggunakan **machine learning**.\n",
        "Jika <span style='color:red'>komputer</span>benar maka ia mendapat poin, kebalikannya maka <span style='color:green'>Anda</span> mendapat point. Yang pertama mencapai **10 point** menang! \n",
        "\n"
      ],
      "metadata": {
        "id": "XIe7GsthcTXh"
      }
    },
    {
      "cell_type": "markdown",
      "source": [
        "##Import tools\n",
        "import tools yang akan kita pakai untuk membuat game ini"
      ],
      "metadata": {
        "id": "nqKTcBKTfwAa"
      }
    },
    {
      "cell_type": "code",
      "source": [
        "from ipywidgets import *\n",
        "import numpy as np"
      ],
      "metadata": {
        "id": "ew-QPwA8gNAu"
      },
      "execution_count": 3,
      "outputs": []
    },
    {
      "cell_type": "markdown",
      "source": [
        "##3.Membuat Tombol\n",
        "Tombol ini digunakan untuk menentukan pilihan pengguna"
      ],
      "metadata": {
        "id": "fPN0dw8Bga41"
      }
    },
    {
      "cell_type": "code",
      "source": [
        "btn_zero = Button( description='0'  )\n",
        "btn_one = Button( description='1' )\n",
        "btns = HBox(  [btn_zero, btn_one] )\n",
        "btns\n"
      ],
      "metadata": {
        "colab": {
          "base_uri": "https://localhost:8080/",
          "height": 49,
          "referenced_widgets": [
            "06eda11a0d01459983ea183bad599769",
            "07e44f5cdd0842c49bcf61280cba924a",
            "b3b104d93043475f9a8dec2b88189a20",
            "04efafbf7de34b45afe23889d08f3a09",
            "90b50eb2ae254e859105c4fe6d2e438c",
            "c13015f4224241a791990ec91abc7924",
            "ae8cf005b7f349938aeeb5988c755834",
            "110d4a8d1a1f477ab5bbefb305c8a7d4"
          ]
        },
        "id": "czWUky8ognXm",
        "outputId": "670b4fec-ca5a-46aa-a12b-8af1d98feb7f"
      },
      "execution_count": 11,
      "outputs": [
        {
          "output_type": "display_data",
          "data": {
            "text/plain": [
              "HBox(children=(Button(description='0', style=ButtonStyle()), Button(description='1', style=ButtonStyle())))"
            ],
            "application/vnd.jupyter.widget-view+json": {
              "version_major": 2,
              "version_minor": 0,
              "model_id": "06eda11a0d01459983ea183bad599769"
            }
          },
          "metadata": {}
        }
      ]
    },
    {
      "cell_type": "markdown",
      "source": [
        "#4. Scroreboard\n",
        "Kita menggunakan dua progress bar untuk menunjukan scoreboard"
      ],
      "metadata": {
        "id": "3AZ6IUgFjbJg"
      }
    },
    {
      "cell_type": "code",
      "source": [
        "usr_score = IntProgress( value=0, min=0, max=10, description= 'You:'  , bar_style='success')\n",
        "bot_score = IntProgress( value=0, min=0, max=10, description='Bot:'  , bar_style='danger')\n",
        "scoreboard = VBox( [usr_score, bot_score])\n",
        "scoreboard"
      ],
      "metadata": {
        "colab": {
          "base_uri": "https://localhost:8080/",
          "height": 81,
          "referenced_widgets": [
            "f4adf4f141e94f249ccab27b00dd654d",
            "25c11fb8f3e243a38aeaf4969abd6fc5",
            "79bdda9730184575a340037eed2e4bcf",
            "e117ae6d187840af89b243d7370aab92",
            "6fca4f86f4774dd2b583905911ff2b14",
            "4d33729af44f4422b11762fd45fbaa91",
            "040c79cc0aaa491e9540c9587277b801",
            "56ef4c947eae482c93a6c56f575a45f6"
          ]
        },
        "id": "76fMI6izjqbR",
        "outputId": "4e099ef7-039e-42ca-8c20-9b815d2d4fea"
      },
      "execution_count": 16,
      "outputs": [
        {
          "output_type": "display_data",
          "data": {
            "text/plain": [
              "VBox(children=(IntProgress(value=0, bar_style='success', description='You:', max=10), IntProgress(value=0, bar…"
            ],
            "application/vnd.jupyter.widget-view+json": {
              "version_major": 2,
              "version_minor": 0,
              "model_id": "f4adf4f141e94f249ccab27b00dd654d"
            }
          },
          "metadata": {}
        }
      ]
    },
    {
      "cell_type": "markdown",
      "source": [
        "#5. Pesan Game Over\n",
        "Di akhir permainan, bergantung dari anda kalah atau menang kita akan mencetak *\"You Win\"* atau *\"You Loose!\"*"
      ],
      "metadata": {
        "id": "NQYfGDCElbZf"
      }
    },
    {
      "cell_type": "code",
      "source": [
        "final_msg = HTML(\"<h1 style='color:green'>  You Win!</h1>\")\n",
        "final_msg"
      ],
      "metadata": {
        "colab": {
          "base_uri": "https://localhost:8080/",
          "height": 70,
          "referenced_widgets": [
            "e8e955cbe0d24df297b287250c93b325",
            "1fbc1791811d4621b65ea2ec8dd06534",
            "1549d35c54e74d98aa00707c6e6b6b1a"
          ]
        },
        "id": "DyonaiJLmEFj",
        "outputId": "86ef0d75-b0bb-45b4-abae-3456c99d4c00"
      },
      "execution_count": 17,
      "outputs": [
        {
          "output_type": "display_data",
          "data": {
            "text/plain": [
              "HTML(value=\"<h1 style='color:green'>  You Win!</h1>\")"
            ],
            "application/vnd.jupyter.widget-view+json": {
              "version_major": 2,
              "version_minor": 0,
              "model_id": "e8e955cbe0d24df297b287250c93b325"
            }
          },
          "metadata": {}
        }
      ]
    },
    {
      "cell_type": "markdown",
      "source": [
        "#6. Game Box\n",
        "Sekarang kita akan menyatukan semua widgets di dalam sebuah kotak bernama game_box"
      ],
      "metadata": {
        "id": "sLzlUXh9mef1"
      }
    },
    {
      "cell_type": "code",
      "source": [
        "game_box = VBox([     HBox(   [scoreboard, final_msg] ),\n",
        "                      btns \n",
        "                 ])\n",
        "game_box"
      ],
      "metadata": {
        "colab": {
          "base_uri": "https://localhost:8080/",
          "height": 113,
          "referenced_widgets": [
            "713ece3591ae4b51bfc31b63c488ceb7",
            "5f0bd34c53c54fed9bdff41cba9dfca2",
            "06eda11a0d01459983ea183bad599769",
            "2f4b74a2a5b7430a880c19bac7fdbdbb",
            "f4adf4f141e94f249ccab27b00dd654d",
            "e8e955cbe0d24df297b287250c93b325",
            "37dfcb618fb34ef8a4ad1d51780d4193",
            "07e44f5cdd0842c49bcf61280cba924a",
            "b3b104d93043475f9a8dec2b88189a20",
            "04efafbf7de34b45afe23889d08f3a09",
            "25c11fb8f3e243a38aeaf4969abd6fc5",
            "79bdda9730184575a340037eed2e4bcf",
            "e117ae6d187840af89b243d7370aab92",
            "1fbc1791811d4621b65ea2ec8dd06534",
            "1549d35c54e74d98aa00707c6e6b6b1a",
            "90b50eb2ae254e859105c4fe6d2e438c",
            "c13015f4224241a791990ec91abc7924",
            "ae8cf005b7f349938aeeb5988c755834",
            "110d4a8d1a1f477ab5bbefb305c8a7d4",
            "6fca4f86f4774dd2b583905911ff2b14",
            "4d33729af44f4422b11762fd45fbaa91",
            "040c79cc0aaa491e9540c9587277b801",
            "56ef4c947eae482c93a6c56f575a45f6"
          ]
        },
        "id": "N8q_9_8PmxOX",
        "outputId": "9be605fa-84b5-4e17-8d1a-a329b7082421"
      },
      "execution_count": 19,
      "outputs": [
        {
          "output_type": "display_data",
          "data": {
            "text/plain": [
              "VBox(children=(HBox(children=(VBox(children=(IntProgress(value=0, bar_style='success', description='You:', max…"
            ],
            "application/vnd.jupyter.widget-view+json": {
              "version_major": 2,
              "version_minor": 0,
              "model_id": "713ece3591ae4b51bfc31b63c488ceb7"
            }
          },
          "metadata": {}
        }
      ]
    },
    {
      "cell_type": "code",
      "source": [
        "final_msg.layout.visibility = 'hidden'"
      ],
      "metadata": {
        "id": "6pftUikhwKrs"
      },
      "execution_count": null,
      "outputs": []
    },
    {
      "cell_type": "markdown",
      "source": [
        "#7. Function : Update Game\n",
        "Di sini kita akan membuat sebuah fungsi untuk melakukan update setelah setiap kali ktia memilih angka. Yang akan dilakukan adalah :    \n",
        "1.Komputer akan menebak angka yang kita pilih dari riwayat pilihan kita sebelumnya\n",
        "\n",
        "2.Menambahkan 1 pada score komputer jika menebak angka anda dengan tepat, dan menambahkan 1 jika tebakannya salah\n",
        "\n",
        "3.Stop permainan saat salah satu sudah menang"
      ],
      "metadata": {
        "id": "NsKrDxtFhz0f"
      }
    },
    {
      "cell_type": "code",
      "source": [
        "def click_zero(b):\n",
        "    update_game(0)\n",
        "btn_zero.on_click( click_zero )"
      ],
      "metadata": {
        "id": "delz80aQh8KC"
      },
      "execution_count": 14,
      "outputs": []
    },
    {
      "cell_type": "code",
      "source": [
        "def click_one(b):\n",
        "    update_game(1)\n",
        "btn_zero.on_click( click_one )"
      ],
      "metadata": {
        "id": "mjN-NYJDiUDw"
      },
      "execution_count": 9,
      "outputs": []
    },
    {
      "cell_type": "code",
      "source": [
        "def update_game( usr_choice ):\n",
        "  prob = sum( usr_history ) / len(usr_history)\n",
        "  comp_choice = np.random.binomial(1, prob, 1)[0]\n",
        "  usr_history.append( usr_choice )\n",
        "\n",
        "   if comp_choice == usr_choice:\n",
        "       bot_score.value += 1\n",
        "   else:\n",
        "       usr_score.value += 1 \n",
        "    \n",
        "   if usr_score.value == 30 or bot_score.value == 30:\n",
        "       if bot_score.value == 30:\n",
        "           final_msg.value = \"<h1 style=1color:red'> You Loose!</h1>\"\n",
        "       final_msg.layout.visibility = \"visible\"\n",
        "       btn_zero.disable = True\n",
        "       btn_one.disabled = True\n",
        "\n",
        "   return"
      ],
      "metadata": {
        "colab": {
          "base_uri": "https://localhost:8080/",
          "height": 130
        },
        "id": "uAv6RsUTi531",
        "outputId": "70420234-f3ca-4911-c9fb-2a361036684a"
      },
      "execution_count": 46,
      "outputs": [
        {
          "output_type": "error",
          "ename": "IndentationError",
          "evalue": "ignored",
          "traceback": [
            "\u001b[0;36m  File \u001b[0;32m\"<ipython-input-46-16e0159f70ec>\"\u001b[0;36m, line \u001b[0;32m6\u001b[0m\n\u001b[0;31m    if comp_choice == usr_choice:\u001b[0m\n\u001b[0m    ^\u001b[0m\n\u001b[0;31mIndentationError\u001b[0m\u001b[0;31m:\u001b[0m unexpected indent\n"
          ]
        }
      ]
    },
    {
      "cell_type": "code",
      "source": [
        "usr_history = []"
      ],
      "metadata": {
        "id": "DOzg0W7-oXwZ"
      },
      "execution_count": 20,
      "outputs": []
    },
    {
      "cell_type": "code",
      "source": [
        "usr_history.append(1)"
      ],
      "metadata": {
        "id": "OaJryem-o8RK"
      },
      "execution_count": 31,
      "outputs": []
    },
    {
      "cell_type": "code",
      "source": [
        "usr_history.append(0)"
      ],
      "metadata": {
        "id": "a3_0VI1QqU17"
      },
      "execution_count": 32,
      "outputs": []
    },
    {
      "cell_type": "code",
      "source": [
        "usr_history"
      ],
      "metadata": {
        "id": "3zILZNGTprSj"
      },
      "execution_count": null,
      "outputs": []
    },
    {
      "cell_type": "code",
      "source": [
        "sum( usr_history )"
      ],
      "metadata": {
        "id": "jdnNh_ISrF66"
      },
      "execution_count": null,
      "outputs": []
    },
    {
      "cell_type": "code",
      "source": [
        "len( usr_history )"
      ],
      "metadata": {
        "id": "IgxJKsbnrO_3"
      },
      "execution_count": null,
      "outputs": []
    },
    {
      "cell_type": "code",
      "source": [
        "prob = sum( usr_history ) / len( usr_history)\n",
        "prob"
      ],
      "metadata": {
        "id": "LRKVc_fbrXQT"
      },
      "execution_count": null,
      "outputs": []
    },
    {
      "cell_type": "code",
      "source": [
        "comp_choice = np.random.binomial(1, prob)\n",
        "comp_choice"
      ],
      "metadata": {
        "colab": {
          "base_uri": "https://localhost:8080/"
        },
        "id": "b_yP7NRsrisp",
        "outputId": "84663bae-0183-477e-b60e-fa0ab8b17e28"
      },
      "execution_count": 38,
      "outputs": [
        {
          "output_type": "execute_result",
          "data": {
            "text/plain": [
              "1"
            ]
          },
          "metadata": {},
          "execution_count": 38
        }
      ]
    },
    {
      "cell_type": "markdown",
      "source": [
        "#8. Play\n",
        "Agar game Mind Reader tampil di file lain"
      ],
      "metadata": {
        "id": "SdbQZBsqwyJV"
      }
    },
    {
      "cell_type": "code",
      "source": [
        "display( game_box )"
      ],
      "metadata": {
        "id": "2LrWuIhww_cW"
      },
      "execution_count": null,
      "outputs": []
    }
  ]
}